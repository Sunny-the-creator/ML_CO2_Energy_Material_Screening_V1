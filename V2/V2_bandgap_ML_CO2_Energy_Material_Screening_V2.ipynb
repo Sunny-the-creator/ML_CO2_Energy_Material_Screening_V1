# V2 notebook uploaded manually
